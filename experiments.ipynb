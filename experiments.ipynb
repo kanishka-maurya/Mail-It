{
 "cells": [
  {
   "cell_type": "code",
   "execution_count": null,
   "metadata": {},
   "outputs": [],
   "source": [
    "! pip install python-dotenv langchain_groq"
   ]
  },
  {
   "cell_type": "code",
   "execution_count": null,
   "metadata": {},
   "outputs": [],
   "source": [
    "import os\n",
    "from dotenv import load_dotenv\n",
    "load_dotenv()\n",
    "\n",
    "GROQ_API_KEY = os.getenv(\"GROQ_API_KEY\")\n",
    "os.environ[\"GROQ_API_KEY\"] = GROQ_API_KEY"
   ]
  },
  {
   "cell_type": "code",
   "execution_count": 15,
   "metadata": {},
   "outputs": [],
   "source": [
    "job_description = '''About the job\n",
    "Data Analyst Intern (Paid)\n",
    "\n",
    "Company: WebBoost Solutions by UM\n",
    "\n",
    "Location: Remote\n",
    "\n",
    "Duration: 3 months\n",
    "\n",
    "Opportunity: Full-time based on performance, with a Certificate of Internship\n",
    "\n",
    "Application Deadline: 4th April 2025\n",
    "\n",
    "About WebBoost Solutions by UM\n",
    "\n",
    "WebBoost Solutions by UM provides students and graduates with hands-on experience in data analysis, helping them enhance their career prospects.\n",
    "\n",
    "Responsibilities\n",
    "\n",
    "✅ Collect, clean, and analyze datasets.\n",
    "\n",
    "✅ Develop reports and data visualizations for business insights.\n",
    "\n",
    "✅ Identify trends and patterns in data to support decision-making.\n",
    "\n",
    "✅ Collaborate with teams to present data-driven recommendations.\n",
    "\n",
    "Requirements\n",
    "\n",
    "🎓 Enrolled in or a graduate of a relevant program (Data Science, Business Analytics, Computer Science, or related field).\n",
    "\n",
    "📊 Strong analytical skills and attention to detail.\n",
    "\n",
    "🐍 Familiarity with tools like Excel, SQL, or Python (preferred).\n",
    "\n",
    "🤝 Excellent communication and teamwork abilities.\n",
    "\n",
    "Benefits\n",
    "\n",
    "💰 Stipend: ₹7,500 - ₹15,000 (Performance-Based) (Paid)\n",
    "\n",
    "✔ Real-world data analysis experience.\n",
    "\n",
    "✔ Internship Certificate & Letter of Recommendation.\n",
    "\n",
    "✔ Build your portfolio with impactful projects.\n",
    "\n",
    "How to Apply\n",
    "\n",
    "📩 Submit your application by 4th April 2025 with the subject: \"Data Analyst Intern Application\".\n",
    "\n",
    "Equal Opportunity\n",
    "\n",
    "WebBoost Solutions by UM is an equal-opportunity employer, welcoming applicants from all backgrounds.\n",
    "\n",
    "\n",
    "'''"
   ]
  },
  {
   "cell_type": "code",
   "execution_count": 16,
   "metadata": {},
   "outputs": [],
   "source": [
    "from langchain_groq import ChatGroq"
   ]
  },
  {
   "cell_type": "code",
   "execution_count": 17,
   "metadata": {},
   "outputs": [],
   "source": [
    "llm = ChatGroq(\n",
    "    model_name=\"llama3-8b-8192\"\n",
    ")"
   ]
  },
  {
   "cell_type": "code",
   "execution_count": null,
   "metadata": {},
   "outputs": [],
   "source": [
    "! pip install langchain"
   ]
  },
  {
   "cell_type": "code",
   "execution_count": 18,
   "metadata": {},
   "outputs": [],
   "source": [
    "from langchain.prompts import PromptTemplate"
   ]
  },
  {
   "cell_type": "code",
   "execution_count": null,
   "metadata": {},
   "outputs": [],
   "source": [
    "prompt_template = PromptTemplate(\n",
    "    input_variables=[\"job_description\"],\n",
    "    template='''You are an AI assistant specialized in extracting and summarizing key information from job descriptions. Given a job description, analyze \n",
    "    it and return a structured summary in valid JSON format, capturing only the most essential details.\n",
    "\n",
    "    Job Description:\n",
    "    {job_description}\n",
    "\n",
    "    Return the following output strictly in the JSON format:\n",
    "\n",
    "    \"Job Title\": \"[Extracted Job Title]\",\n",
    "    \"Company Name\": \"[Extracted Company Name (if available)]\",\n",
    "    \"Location\": \"[City, Country / Remote]\",\n",
    "    \"Job Type\": \"[Full-time / Part-time / Contract / Internship]\",\n",
    "    \"Key Responsibilities\": [\n",
    "        \"Summarized primary duty 1\",\n",
    "        \"Summarized primary duty 2\",\n",
    "        \"Summarized primary duty 3\"\n",
    "    ],\n",
    "    \"Required Skills\": [\n",
    "        \"Extracted technical or soft skill 1\",\n",
    "        \"Extracted technical or soft skill 2\"\n",
    "    ],\n",
    "    \"Preferred Qualifications\": [\n",
    "        \"Optional qualification 1 (if mentioned)\",\n",
    "        \"Optional qualification 2 (if mentioned)\"\n",
    "    ],\n",
    "    \"Experience Required\": \"[Years of experience (if specified)]\",\n",
    "    \"Salary Range\": \"[Salary details (if mentioned)]\",\n",
    "    \"How to Apply\": \"[Application link or email (if available)]\"\n",
    "\n",
    "    Guidelines:\n",
    "\n",
    "    Ensure the JSON output is valid and properly formatted.\n",
    "\n",
    "    Omit any section if the relevant information is not available in the job description.\n",
    "\n",
    "    Keep responses concise and free from unnecessary text.There should be no header and text \n",
    "    mentioning what you have done, it should just be pure JSON.''')\n",
    "\n"
   ]
  },
  {
   "cell_type": "code",
   "execution_count": 23,
   "metadata": {},
   "outputs": [],
   "source": [
    "from langchain.chains import LLMChain\n",
    "chain = LLMChain(llm=llm, prompt=prompt_template)\n",
    "response = chain.run(job_description=job_description)"
   ]
  },
  {
   "cell_type": "code",
   "execution_count": 24,
   "metadata": {},
   "outputs": [
    {
     "name": "stdout",
     "output_type": "stream",
     "text": [
      "{\n",
      "    \"Job Title\": \"Data Analyst Intern\",\n",
      "    \"Company Name\": \"WebBoost Solutions by UM\",\n",
      "    \"Location\": \"Remote\",\n",
      "    \"Job Type\": \"Internship\",\n",
      "    \"Key Responsibilities\": [\n",
      "        \"Collect, clean, and analyze datasets.\",\n",
      "        \"Develop reports and data visualizations for business insights.\",\n",
      "        \"Identify trends and patterns in data to support decision-making.\"\n",
      "    ],\n",
      "    \"Required Skills\": [\n",
      "        \"Strong analytical skills and attention to detail\",\n",
      "        \"Excellent communication and teamwork abilities\"\n",
      "    ],\n",
      "    \"Preferred Qualifications\": [\n",
      "        \"Familiarity with tools like Excel, SQL, or Python\"\n",
      "    ],\n",
      "    \"Experience Required\": \"N/A\",\n",
      "    \"Salary Range\": \"₹7,500 - ₹15,000 (Performance-Based)\",\n",
      "    \"How to Apply\": \"Submit your application by 4th April 2025 with the subject: 'Data Analyst Intern Application'\"\n",
      "}\n"
     ]
    }
   ],
   "source": [
    "print(response)"
   ]
  },
  {
   "cell_type": "code",
   "execution_count": null,
   "metadata": {},
   "outputs": [],
   "source": []
  }
 ],
 "metadata": {
  "kernelspec": {
   "display_name": ".venv",
   "language": "python",
   "name": "python3"
  },
  "language_info": {
   "codemirror_mode": {
    "name": "ipython",
    "version": 3
   },
   "file_extension": ".py",
   "mimetype": "text/x-python",
   "name": "python",
   "nbconvert_exporter": "python",
   "pygments_lexer": "ipython3",
   "version": "3.12.3"
  }
 },
 "nbformat": 4,
 "nbformat_minor": 2
}
